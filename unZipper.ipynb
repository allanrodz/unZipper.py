{
 "cells": [
  {
   "cell_type": "code",
   "execution_count": 1,
   "id": "1fb16945",
   "metadata": {},
   "outputs": [],
   "source": [
    "import os\n",
    "import shutil"
   ]
  },
  {
   "cell_type": "code",
   "execution_count": 3,
   "id": "2c8d4e02",
   "metadata": {},
   "outputs": [],
   "source": [
    "def zipit(output_filename, dir_to_zip):\n",
    "    return shutil.make_archive(output_filename,'zip', dir_to_zip)\n",
    "\n",
    "def unzipit(file_name+'.zip', unzipped_file_name):\n",
    "    return shutil.unpack_archive(file_name, unzipped_file_name, 'zip')\n",
    "    \n"
   ]
  },
  {
   "cell_type": "code",
   "execution_count": null,
   "id": "cd35e7a2",
   "metadata": {},
   "outputs": [],
   "source": [
    "acceptable_options = ['z','u']\n",
    "decision = ''\n",
    "while decision != acceptable_options:\n",
    "    decision = input('Would you like to Zip or Unzip a file? Z or U: ').lower()\n",
    "    if decision == 'z':\n",
    "        output_filename = input('How would you like to name your zipped folder?: ')\n",
    "        dir_to_zip = input('Please enter the directory address: ')\n",
    "        zipit(output_filename, dir_to_zip)\n",
    "    elif decision == 'u':\n",
    "        file_name = input(f'Assuming the file is in this directory {os.getcwd()}, write ONLY the NAME of the file you want to unzip: ')\n",
    "        unzipped_file_name = input('How would you like to name your zipped file?: ')\n",
    "        unzipit(file_name+'.zip', unzipped_file_name)\n",
    "    else:\n",
    "        print('Please choose Z or U.')\n",
    "print(f'Thanks for using me :3, your new file is at {os.getcwd()}')"
   ]
  }
 ],
 "metadata": {
  "kernelspec": {
   "display_name": "Python 3",
   "language": "python",
   "name": "python3"
  },
  "language_info": {
   "codemirror_mode": {
    "name": "ipython",
    "version": 3
   },
   "file_extension": ".py",
   "mimetype": "text/x-python",
   "name": "python",
   "nbconvert_exporter": "python",
   "pygments_lexer": "ipython3",
   "version": "3.8.8"
  }
 },
 "nbformat": 4,
 "nbformat_minor": 5
}
